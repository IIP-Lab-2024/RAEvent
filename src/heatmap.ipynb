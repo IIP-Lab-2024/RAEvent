{
 "cells": [
  {
   "cell_type": "code",
   "execution_count": 1,
   "metadata": {},
   "outputs": [
    {
     "name": "stderr",
     "output_type": "stream",
     "text": [
      "/home/nlpc/miniconda3/envs/LED/lib/python3.8/site-packages/tqdm/auto.py:21: TqdmWarning: IProgress not found. Please update jupyter and ipywidgets. See https://ipywidgets.readthedocs.io/en/stable/user_install.html\n",
      "  from .autonotebook import tqdm as notebook_tqdm\n"
     ]
    },
    {
     "name": "stdout",
     "output_type": "stream",
     "text": [
      "\n",
      "using original BERT\n"
     ]
    },
    {
     "name": "stderr",
     "output_type": "stream",
     "text": [
      "Some weights of the model checkpoint at /hhd2/fan/SCR/Pretrain_model/SAILER were not used when initializing BertModel: ['cause_head.0.attention.self.query.weight', 'cause_head.0.attention.output.dense.bias', 'cls.predictions.transform.LayerNorm.bias', 'c_head.0.attention.output.dense.weight', 'cause_head.0.attention.self.value.bias', 'cls.predictions.transform.dense.bias', 'c_head.1.attention.self.key.bias', 'c_head.1.attention.self.value.weight', 'cause_head.0.intermediate.dense.weight', 'c_head.1.attention.self.query.weight', 'c_head.1.attention.output.LayerNorm.bias', 'cls.predictions.transform.LayerNorm.weight', 'c_head.0.attention.self.value.bias', 'c_head.1.attention.output.dense.weight', 'cause_head.0.attention.self.key.bias', 'c_head.1.attention.output.dense.bias', 'cause_head.0.output.dense.weight', 'c_head.0.attention.output.LayerNorm.weight', 'cause_head.0.output.LayerNorm.bias', 'c_head.0.output.dense.weight', 'c_head.0.attention.self.query.bias', 'cause_head.0.attention.output.LayerNorm.bias', 'c_head.1.output.dense.weight', 'c_head.1.attention.output.LayerNorm.weight', 'cls.predictions.transform.dense.weight', 'cause_head.0.output.dense.bias', 'c_head.0.attention.self.value.weight', 'c_head.0.intermediate.dense.weight', 'c_head.0.attention.self.key.bias', 'c_head.0.attention.output.LayerNorm.bias', 'cls.predictions.bias', 'c_head.1.intermediate.dense.bias', 'c_head.1.attention.self.query.bias', 'cause_head.0.output.LayerNorm.weight', 'cls.predictions.decoder.bias', 'c_head.0.output.LayerNorm.bias', 'c_head.1.attention.self.key.weight', 'c_head.0.attention.self.query.weight', 'cls.predictions.decoder.weight', 'cause_head.0.attention.output.dense.weight', 'c_head.0.output.dense.bias', 'cause_head.0.intermediate.dense.bias', 'c_head.0.attention.self.key.weight', 'c_head.1.output.LayerNorm.weight', 'cause_head.0.attention.self.key.weight', 'cause_head.0.attention.self.query.bias', 'cause_head.0.attention.self.value.weight', 'c_head.1.output.LayerNorm.bias', 'c_head.0.attention.output.dense.bias', 'cause_head.0.attention.output.LayerNorm.weight', 'c_head.0.output.LayerNorm.weight', 'c_head.1.intermediate.dense.weight', 'c_head.0.intermediate.dense.bias', 'c_head.1.attention.self.value.bias', 'c_head.1.output.dense.bias']\n",
      "- This IS expected if you are initializing BertModel from the checkpoint of a model trained on another task or with another architecture (e.g. initializing a BertForSequenceClassification model from a BertForPreTraining model).\n",
      "- This IS NOT expected if you are initializing BertModel from the checkpoint of a model that you expect to be exactly identical (initializing a BertForSequenceClassification model from a BertForSequenceClassification model).\n",
      "Some weights of BertModel were not initialized from the model checkpoint at /hhd2/fan/SCR/Pretrain_model/SAILER and are newly initialized: ['bert.pooler.dense.bias', 'bert.pooler.dense.weight']\n",
      "You should probably TRAIN this model on a down-stream task to be able to use it for predictions and inference.\n"
     ]
    }
   ],
   "source": [
    "import matplotlib.pyplot as plt\n",
    "import seaborn as sns\n",
    "import numpy as np\n",
    "import pandas as pd\n",
    "from transformers import BertTokenizer, BertModel\n",
    "import torch\n",
    "import numpy as np\n",
    "from sklearn.manifold import TSNE\n",
    "import matplotlib\n",
    "import matplotlib.pyplot as plt\n",
    "from transformers import AutoTokenizer\n",
    "from model.model.personalized_bert import EventBertModel\n",
    "from model.model.PairwiseLecardPLM1 import PairwisePLM1\n",
    "from formatter.PairwiseFormatter1 import PairwiseFormatter\n",
    "from config_parser import create_config\n",
    "from tools.init_tool1 import init_formatter\n",
    "from torch.autograd import Variable\n",
    "from lime.lime_text import LimeTextExplainer\n",
    "import numpy as np\n",
    "# plm_path = \"/home/pub/fan/SCR/Pretrain_model/bert_base_chinese\"\n",
    "# tokenizer = AutoTokenizer.from_pretrained(plm_path)\n",
    "device = torch.device(\"cuda\")\n",
    "plt.rcParams['font.sans-serif'] = ['SimHei']\n",
    "matplotlib.rcParams['axes.unicode_minus'] = False  # 正确显示负号\n",
    "def correct_state_dict(state_dict):\n",
    "    \"\"\"调整状态字典中的键名，以适应当前模型结构\"\"\"\n",
    "    new_state_dict = {}\n",
    "    for k, v in state_dict.items():\n",
    "        # 移除所有不必要的'module.'前缀\n",
    "        new_key = k.replace(\"module.\", \"\")\n",
    "        new_state_dict[new_key] = v\n",
    "    return new_state_dict\n",
    "\n",
    "def load_model(model_path):\n",
    "    checkpoint = torch.load(model_path, map_location='cpu')\n",
    "    model = PairwisePLM1()\n",
    "    # 使用修正函数处理状态字典\n",
    "    fixed_state_dict = correct_state_dict(checkpoint['model'])\n",
    "    model.load_state_dict(fixed_state_dict)\n",
    "    \n",
    "    return model\n",
    "\n",
    "# 假设你的模型保存路径为\n",
    "# model_path = '/hhd2/fan/SCR/output/PairwiseLecardBertBase_re/4.pth'\n",
    "model_path = '/hhd2/fan/SCR/output/PairwiseLecardSAILER_visual/3.pth'\n",
    "model = load_model(model_path)"
   ]
  },
  {
   "cell_type": "code",
   "execution_count": 13,
   "metadata": {},
   "outputs": [
    {
     "name": "stdout",
     "output_type": "stream",
     "text": [
      "140\n"
     ]
    },
    {
     "data": {
      "text/html": [
       "<div style='font-size:16px; width: 450px; word-wrap: break-word;'><span style='background-color: rgba(0,0,3, 0.001)'>[CLS]</span> <span style='background-color: rgba(0,0,3, 0.001)'>2013</span> <span style='background-color: rgba(0,0,3, 0.001); font-family: \"Times New Roman\", Times, serif;'>年</span> <span style='background-color: rgba(0,0,3, 0.001)'>，</span> <span style='background-color: rgba(0,0,3, 0.001); font-family: \"Times New Roman\", Times, serif;'>被</span> <span style='background-color: rgba(0,0,3, 0.001); font-family: \"Times New Roman\", Times, serif;'>告</span> <span style='background-color: rgba(0,0,3, 0.001); font-family: \"Times New Roman\", Times, serif;'>人</span> <span style='background-color: rgba(0,0,3, 0.001); font-family: \"Times New Roman\", Times, serif;'>陈</span> <span style='background-color: rgba(253,207,146, 0.9002395868301392); font-family: \"Times New Roman\", Times, serif;'>益</span> <span style='background-color: rgba(0,0,3, 0.001); font-family: \"Times New Roman\", Times, serif;'>桃</span> <span style='background-color: rgba(0,0,3, 0.001); font-family: \"Times New Roman\", Times, serif;'>受</span> <span style='background-color: rgba(254,198,137, 0.8811612129211426); font-family: \"Times New Roman\", Times, serif;'>被</span> <span style='background-color: rgba(254,199,139, 0.8849901556968689); font-family: \"Times New Roman\", Times, serif;'>告</span> <span style='background-color: rgba(252,229,166, 0.9477143883705139); font-family: \"Times New Roman\", Times, serif;'>人</span> <span style='background-color: rgba(0,0,3, 0.001); font-family: \"Times New Roman\", Times, serif;'>邓</span> <span style='background-color: rgba(0,0,3, 0.001); font-family: \"Times New Roman\", Times, serif;'>某</span> <span style='background-color: rgba(0,0,3, 0.001); font-family: \"Times New Roman\", Times, serif;'>某</span> <span style='background-color: rgba(0,0,3, 0.001); font-family: \"Times New Roman\", Times, serif;'>指</span> <span style='background-color: rgba(0,0,3, 0.001); font-family: \"Times New Roman\", Times, serif;'>使</span> <span style='background-color: rgba(0,0,3, 0.001)'>，</span> <span style='background-color: rgba(0,0,3, 0.001); font-family: \"Times New Roman\", Times, serif;'>为</span> <span style='background-color: rgba(0,0,3, 0.001); font-family: \"Times New Roman\", Times, serif;'>解</span> <span style='background-color: rgba(0,0,3, 0.001); font-family: \"Times New Roman\", Times, serif;'>决</span> <span style='background-color: rgba(0,0,3, 0.001); font-family: \"Times New Roman\", Times, serif;'>邓</span> <span style='background-color: rgba(253,205,144, 0.8952933549880981); font-family: \"Times New Roman\", Times, serif;'>与</span> <span style='background-color: rgba(0,0,3, 0.001); font-family: \"Times New Roman\", Times, serif;'>被</span> <span style='background-color: rgba(253,207,146, 0.9017952084541321); font-family: \"Times New Roman\", Times, serif;'>害</span> <span style='background-color: rgba(253,221,159, 0.9299976825714111); font-family: \"Times New Roman\", Times, serif;'>人</span> <span style='background-color: rgba(253,223,161, 0.9351979494094849); font-family: \"Times New Roman\", Times, serif;'>杨</span> <span style='background-color: rgba(0,0,3, 0.001); font-family: \"Times New Roman\", Times, serif;'>某</span> <span style='background-color: rgba(0,0,3, 0.001); font-family: \"Times New Roman\", Times, serif;'>某</span> <span style='background-color: rgba(253,210,149, 0.9095888733863831); font-family: \"Times New Roman\", Times, serif;'>之</span> <span style='background-color: rgba(252,227,165, 0.9435921311378479); font-family: \"Times New Roman\", Times, serif;'>间</span> <span style='background-color: rgba(252,236,174, 0.9645388722419739); font-family: \"Times New Roman\", Times, serif;'>的</span> <span style='background-color: rgba(0,0,3, 0.001); font-family: \"Times New Roman\", Times, serif;'>经</span> <span style='background-color: rgba(253,223,161, 0.9361737966537476); font-family: \"Times New Roman\", Times, serif;'>济</span> <span style='background-color: rgba(253,218,156, 0.9231444597244263); font-family: \"Times New Roman\", Times, serif;'>纠</span> <span style='background-color: rgba(253,218,156, 0.9255471229553223); font-family: \"Times New Roman\", Times, serif;'>纷</span> <span style='background-color: rgba(0,0,3, 0.001)'>，</span> <span style='background-color: rgba(0,0,3, 0.001); font-family: \"Times New Roman\", Times, serif;'>纠</span> <span style='background-color: rgba(0,0,3, 0.001); font-family: \"Times New Roman\", Times, serif;'>集</span> <span style='background-color: rgba(0,0,3, 0.001); font-family: \"Times New Roman\", Times, serif;'>被</span> <span style='background-color: rgba(0,0,3, 0.001); font-family: \"Times New Roman\", Times, serif;'>告</span> <span style='background-color: rgba(254,201,141, 0.8883888125419617); font-family: \"Times New Roman\", Times, serif;'>人</span> <span style='background-color: rgba(0,0,3, 0.001); font-family: \"Times New Roman\", Times, serif;'>瞿</span> <span style='background-color: rgba(0,0,3, 0.001); font-family: \"Times New Roman\", Times, serif;'>某</span> <span style='background-color: rgba(0,0,3, 0.001); font-family: \"Times New Roman\", Times, serif;'>某</span> <span style='background-color: rgba(0,0,3, 0.001); font-family: \"Times New Roman\", Times, serif;'>等</span> <span style='background-color: rgba(0,0,3, 0.001); font-family: \"Times New Roman\", Times, serif;'>人</span> <span style='background-color: rgba(0,0,3, 0.001); font-family: \"Times New Roman\", Times, serif;'>强</span> <span style='background-color: rgba(254,194,134, 0.8735451102256775); font-family: \"Times New Roman\", Times, serif;'>行</span> <span style='background-color: rgba(0,0,3, 0.001); font-family: \"Times New Roman\", Times, serif;'>将</span> <span style='background-color: rgba(0,0,3, 0.001); font-family: \"Times New Roman\", Times, serif;'>被</span> <span style='background-color: rgba(0,0,3, 0.001); font-family: \"Times New Roman\", Times, serif;'>害</span> <span style='background-color: rgba(0,0,3, 0.001); font-family: \"Times New Roman\", Times, serif;'>人</span> <span style='background-color: rgba(0,0,3, 0.001); font-family: \"Times New Roman\", Times, serif;'>杨</span> <span style='background-color: rgba(0,0,3, 0.001); font-family: \"Times New Roman\", Times, serif;'>某</span> <span style='background-color: rgba(0,0,3, 0.001); font-family: \"Times New Roman\", Times, serif;'>某</span> <span style='background-color: rgba(0,0,3, 0.001); font-family: \"Times New Roman\", Times, serif;'>带</span> <span style='background-color: rgba(0,0,3, 0.001); font-family: \"Times New Roman\", Times, serif;'>至</span> <span style='background-color: rgba(0,0,3, 0.001); font-family: \"Times New Roman\", Times, serif;'>他</span> <span style='background-color: rgba(254,198,137, 0.8825998306274414); font-family: \"Times New Roman\", Times, serif;'>处</span> <span style='background-color: rgba(0,0,3, 0.001); font-family: \"Times New Roman\", Times, serif;'>看</span> <span style='background-color: rgba(0,0,3, 0.001); font-family: \"Times New Roman\", Times, serif;'>管</span> <span style='background-color: rgba(0,0,3, 0.001)'>。</span> <span style='background-color: rgba(254,199,139, 0.8860673308372498); font-family: \"Times New Roman\", Times, serif;'>期</span> <span style='background-color: rgba(0,0,3, 0.001); font-family: \"Times New Roman\", Times, serif;'>间</span> <span style='background-color: rgba(0,0,3, 0.001)'>，</span> <span style='background-color: rgba(0,0,3, 0.001); font-family: \"Times New Roman\", Times, serif;'>被</span> <span style='background-color: rgba(0,0,3, 0.001); font-family: \"Times New Roman\", Times, serif;'>告</span> <span style='background-color: rgba(0,0,3, 0.001); font-family: \"Times New Roman\", Times, serif;'>人</span> <span style='background-color: rgba(0,0,3, 0.001); font-family: \"Times New Roman\", Times, serif;'>陈</span> <span style='background-color: rgba(0,0,3, 0.001); font-family: \"Times New Roman\", Times, serif;'>益</span> <span style='background-color: rgba(0,0,3, 0.001); font-family: \"Times New Roman\", Times, serif;'>桃</span> <span style='background-color: rgba(0,0,3, 0.001); font-family: \"Times New Roman\", Times, serif;'>等</span> <span style='background-color: rgba(0,0,3, 0.001); font-family: \"Times New Roman\", Times, serif;'>人</span> <span style='background-color: rgba(0,0,3, 0.001); font-family: \"Times New Roman\", Times, serif;'>采</span> <span style='background-color: rgba(0,0,3, 0.001); font-family: \"Times New Roman\", Times, serif;'>用</span> <span style='background-color: rgba(0,0,3, 0.001); font-family: \"Times New Roman\", Times, serif;'>殴</span> <span style='background-color: rgba(0,0,3, 0.001); font-family: \"Times New Roman\", Times, serif;'>打</span> <span style='background-color: rgba(0,0,3, 0.001); font-family: \"Times New Roman\", Times, serif;'>及</span> <span style='background-color: rgba(0,0,3, 0.001); font-family: \"Times New Roman\", Times, serif;'>言</span> <span style='background-color: rgba(254,203,142, 0.8934010863304138); font-family: \"Times New Roman\", Times, serif;'>语</span> <span style='background-color: rgba(254,203,142, 0.8914299011230469); font-family: \"Times New Roman\", Times, serif;'>威</span> <span style='background-color: rgba(254,196,136, 0.8766466379165649); font-family: \"Times New Roman\", Times, serif;'>胁</span> <span style='background-color: rgba(0,0,3, 0.001); font-family: \"Times New Roman\", Times, serif;'>等</span> <span style='background-color: rgba(254,199,139, 0.884456217288971); font-family: \"Times New Roman\", Times, serif;'>方</span> <span style='background-color: rgba(254,201,141, 0.887668788433075); font-family: \"Times New Roman\", Times, serif;'>式</span> <span style='background-color: rgba(0,0,3, 0.001)'>，</span> <span style='background-color: rgba(0,0,3, 0.001); font-family: \"Times New Roman\", Times, serif;'>逼</span> <span style='background-color: rgba(0,0,3, 0.001); font-family: \"Times New Roman\", Times, serif;'>迫</span> <span style='background-color: rgba(0,0,3, 0.001); font-family: \"Times New Roman\", Times, serif;'>杨</span> <span style='background-color: rgba(0,0,3, 0.001); font-family: \"Times New Roman\", Times, serif;'>某</span> <span style='background-color: rgba(0,0,3, 0.001); font-family: \"Times New Roman\", Times, serif;'>某</span> <span style='background-color: rgba(0,0,3, 0.001); font-family: \"Times New Roman\", Times, serif;'>签</span> <span style='background-color: rgba(0,0,3, 0.001); font-family: \"Times New Roman\", Times, serif;'>下</span> <span style='background-color: rgba(0,0,3, 0.001); font-family: \"Times New Roman\", Times, serif;'>悔</span> <span style='background-color: rgba(0,0,3, 0.001); font-family: \"Times New Roman\", Times, serif;'>过</span> <span style='background-color: rgba(0,0,3, 0.001); font-family: \"Times New Roman\", Times, serif;'>书</span> <span style='background-color: rgba(0,0,3, 0.001); font-family: \"Times New Roman\", Times, serif;'>并</span> <span style='background-color: rgba(254,203,142, 0.892153799533844); font-family: \"Times New Roman\", Times, serif;'>承</span> <span style='background-color: rgba(0,0,3, 0.001); font-family: \"Times New Roman\", Times, serif;'>诺</span> <span style='background-color: rgba(0,0,3, 0.001); font-family: \"Times New Roman\", Times, serif;'>放</span> <span style='background-color: rgba(0,0,3, 0.001); font-family: \"Times New Roman\", Times, serif;'>弃</span> <span style='background-color: rgba(253,216,154, 0.9206470251083374); font-family: \"Times New Roman\", Times, serif;'>经</span> <span style='background-color: rgba(252,240,177, 0.9692135453224182); font-family: \"Times New Roman\", Times, serif;'>济</span> <span style='background-color: rgba(254,198,137, 0.8795539736747742); font-family: \"Times New Roman\", Times, serif;'>利</span> <span style='background-color: rgba(0,0,3, 0.001); font-family: \"Times New Roman\", Times, serif;'>益</span> <span style='background-color: rgba(0,0,3, 0.001)'>。</span> <span style='background-color: rgba(0,0,3, 0.001); font-family: \"Times New Roman\", Times, serif;'>被</span> <span style='background-color: rgba(0,0,3, 0.001); font-family: \"Times New Roman\", Times, serif;'>告</span> <span style='background-color: rgba(0,0,3, 0.001); font-family: \"Times New Roman\", Times, serif;'>人</span> <span style='background-color: rgba(0,0,3, 0.001); font-family: \"Times New Roman\", Times, serif;'>陈</span> <span style='background-color: rgba(0,0,3, 0.001); font-family: \"Times New Roman\", Times, serif;'>益</span> <span style='background-color: rgba(0,0,3, 0.001); font-family: \"Times New Roman\", Times, serif;'>桃</span> <span style='background-color: rgba(0,0,3, 0.001); font-family: \"Times New Roman\", Times, serif;'>等</span> <span style='background-color: rgba(0,0,3, 0.001); font-family: \"Times New Roman\", Times, serif;'>人</span> <span style='background-color: rgba(253,207,146, 0.9014177918434143); font-family: \"Times New Roman\", Times, serif;'>又</span> <span style='background-color: rgba(0,0,3, 0.001); font-family: \"Times New Roman\", Times, serif;'>逼</span> <span style='background-color: rgba(0,0,3, 0.001); font-family: \"Times New Roman\", Times, serif;'>迫</span> <span style='background-color: rgba(0,0,3, 0.001); font-family: \"Times New Roman\", Times, serif;'>被</span> <span style='background-color: rgba(0,0,3, 0.001); font-family: \"Times New Roman\", Times, serif;'>害</span> <span style='background-color: rgba(254,198,137, 0.8801997303962708); font-family: \"Times New Roman\", Times, serif;'>人</span> <span style='background-color: rgba(0,0,3, 0.001); font-family: \"Times New Roman\", Times, serif;'>杨</span> <span style='background-color: rgba(0,0,3, 0.001); font-family: \"Times New Roman\", Times, serif;'>某</span> <span style='background-color: rgba(0,0,3, 0.001); font-family: \"Times New Roman\", Times, serif;'>某</span> <span style='background-color: rgba(0,0,3, 0.001); font-family: \"Times New Roman\", Times, serif;'>出</span> <span style='background-color: rgba(0,0,3, 0.001); font-family: \"Times New Roman\", Times, serif;'>具</span> <span style='background-color: rgba(0,0,3, 0.001); font-family: \"Times New Roman\", Times, serif;'>欠</span> <span style='background-color: rgba(0,0,3, 0.001); font-family: \"Times New Roman\", Times, serif;'>条</span> <span style='background-color: rgba(0,0,3, 0.001); font-family: \"Times New Roman\", Times, serif;'>支</span> <span style='background-color: rgba(0,0,3, 0.001); font-family: \"Times New Roman\", Times, serif;'>付</span> <span style='background-color: rgba(0,0,3, 0.001); font-family: \"Times New Roman\", Times, serif;'>辛</span> <span style='background-color: rgba(0,0,3, 0.001); font-family: \"Times New Roman\", Times, serif;'>苦</span> <span style='background-color: rgba(0,0,3, 0.001); font-family: \"Times New Roman\", Times, serif;'>费</span> <span style='background-color: rgba(251,252,191, 1.0)'>5</span> <span style='background-color: rgba(0,0,3, 0.001); font-family: \"Times New Roman\", Times, serif;'>万</span> <span style='background-color: rgba(0,0,3, 0.001); font-family: \"Times New Roman\", Times, serif;'>元</span> <span style='background-color: rgba(0,0,3, 0.001)'>。</span> <span style='background-color: rgba(0,0,3, 0.001)'>[SEP]</span> </div>"
      ],
      "text/plain": [
       "<IPython.core.display.HTML object>"
      ]
     },
     "metadata": {},
     "output_type": "display_data"
    }
   ],
   "source": [
    "import numpy as np\n",
    "import matplotlib.pyplot as plt\n",
    "from IPython.display import display, HTML\n",
    "\n",
    "collate_fn = {}\n",
    "formatter = {}\n",
    "acc_result = None\n",
    "data_path = \"/hhd2/fan/SCR/SCR-Experiment/test.json\"\n",
    "def get_data(task_list, *args, **params):\n",
    "    for task in task_list:\n",
    "        # print(task)\n",
    "        return PairwiseFormatter(task, *args, **params).process_single(data_path, \"test\")\n",
    "data = get_data([\"test\"], data_path)\n",
    "with torch.no_grad():\n",
    "    logits, pooler_out, attention_weights = model(data, \"valid\", acc_result)\n",
    "# print(attention_weights.shape)\n",
    "attention_np = attention_weights.squeeze(0).numpy()\n",
    "# print(attention_np.shape[0])\n",
    "# print(attention_np.shape)\n",
    "# 计算所有头的平均注意力权重\n",
    "attention_avg = attention_np.mean(axis=0)\n",
    "# 计算每个token的平均注意力权重\n",
    "token_weights = attention_avg.max(axis=1)  # 可以选择max, mean等方式\n",
    "\n",
    "# 归一化权重以便在颜色映射中使用\n",
    "weights_normalized = token_weights / np.max(token_weights)\n",
    "# 定义阈值为权重的75%分位数\n",
    "threshold = np.percentile(weights_normalized, 79)\n",
    "\n",
    "tokens = ['[CLS]', '2013', '年', '，', '被', '告', '人', '陈', '益', '桃', '受', '被', '告', '人', '邓', '某', '某', '指', '使', '，', '为', '解', '决', '邓', '与', '被', '害', '人', '杨', '某', '某', '之', '间', '的', '经', '济', '纠', '纷', '，', '纠', '集', '被', '告', '人', '瞿', '某', '某', '等', '人', '强', '行', '将', '被', '害', '人', '杨', '某', '某', '带', '至', '他', '处', '看', '管', '。', '期', '间', '，', '被', '告', '人', '陈', '益', '桃', '等', '人', '采', '用', '殴', '打', '及', '言', '语', '威', '胁', '等', '方', '式', '，', '逼', '迫', '杨', '某', '某', '签', '下', '悔', '过', '书', '并', '承', '诺', '放', '弃', '经', '济', '利', '益', '。', '被', '告', '人', '陈', '益', '桃', '等', '人', '又', '逼', '迫', '被', '害', '人', '杨', '某', '某', '出', '具', '欠', '条', '支', '付', '辛', '苦', '费', '5', '万', '元', '。', '[SEP]']\n",
    "# tokens = ['[CLS]', '俞', '某', '某', '通', '过', '手', '机', '短', '信', '、', '[UNK]', '等', '形', '式', '共', '接', '收', '[UNK]', '六', '合', '彩', '[UNK]', '码', '单', '合', '计', '金', '额', '人', '民', '币', '480', '##84', '##8', '.', '18', '元', '，', '后', '将', '接', '收', '的', '[UNK]', '六', '合', '彩', '[UNK]', '码', '单', '报', '给', '上', '线', '庄', '家', '，', '从', '中', '非', '法', '获', '利', '。', '[SEP]']\n",
    "# tokens = ['[CLS]', '原', '审', '被', '告', '人', '于', '守', '刚', '在', '任', '梅', '河', '口', '市', '农', '机', '局', '某', '某', '镇', '农', '机', '站', '站', '长', '期', '间', '，', '于', '2010', '年', '7', '月', '6', '日', '，', '在', '为', '本', '镇', '农', '民', '钟', '某', '某', '办', '理', '购', '买', '国', '家', '补', '贴', '农', '机', '时', '，', '向', '钟', '某', '某', '收', '取', '抵', '押', '金', '人', '民', '币', '2', '万', '元', '，', '并', '给', '钟', '某', '某', '出', '具', '加', '盖', '梅', '河', '口', '市', '某', '某', '镇', '农', '机', '工', '作', '站', '公', '章', '的', '收', '据', '1', '份', '，', '后', '将', '此', '款', '占', '为', '己', '有', '。', '案', '发', '后', '，', '原', '审', '被', '告', '人', '于', '守', '刚', '退', '还', '全', '部', '赃', '款', '。', '[SEP]']\n",
    "# tokens = ['[CLS]','2010', '年', '5', '月', '17', '日', '17', '时', '许', '，', '李', '保', '庆', '（', '另', '案', '处', '理', '）', '以', '高', '某', '某', '调', '戏', '其', '外', '甥', '媳', '妇', '为', '由', '伙', '同', '被', '告', '人', '李', '爱', '群', '和', '张', '锋', '（', '另', '案', '处', '理', '）', '将', '高', '某', '某', '强', '行', '拉', '到', '安', '阳', '市', '小', '营', '村', '附', '近', '旅', '社', '内', '对', '其', '予', '以', '殴', '打', '，', '并', '拘', '禁', '至', '5', '月', '18', '日', '15', '时', '许', '，', '并', '且', '当', '场', '逼', '要', '高', '某', '某', '2000', '元', '现', '金', '，', '又', '让', '高', '某', '某', '书', '写', '了', '一', '张', '3000', '元', '的', '欠', '条', '。', '另', '查', '明', '，', '案', '发', '后', '被', '告', '人', '等', '已', '赔', '偿', '被', '害', '人', '经', '济', '损', '失', '2000', '元', '，', '并', '退', '赃', '款', '2000', '元', '。','[SEP]']\n",
    "print(len(tokens))\n",
    "\n",
    "assert len(tokens) == attention_np.shape[1], \"tokens的长度与attention_weights不匹配\"\n",
    "# 创建HTML字符串以显示带有颜色编码的文本\n",
    "# html_str = \"<div style='font-size:16px;'>\"\n",
    "html_str = \"<div style='font-size:16px; width: 450px; word-wrap: break-word;'>\"\n",
    "for token, weight in zip(tokens, weights_normalized):\n",
    "    # print(weight.shape)\n",
    "    # print(weight)\n",
    "    if weight > threshold:\n",
    "        alpha = weight  # 使用权重作为透明度\n",
    "    else:\n",
    "        alpha = 0.001 \n",
    "\n",
    "    color = plt.get_cmap('magma')(alpha)[:3]  # 使用红色调色板，你可以选择你喜欢的颜色\n",
    "    color = [int(x * 255) for x in color]\n",
    "    # html_str += f\"<span style='background-color: rgba({color[0]},{color[1]},{color[2]}, {alpha})'>{token}</span> \"\n",
    "    if token.isalpha():\n",
    "        html_str += f\"<span style='background-color: rgba({color[0]},{color[1]},{color[2]}, {alpha}); font-family: \\\"Times New Roman\\\", Times, serif;'>{token}</span> \"\n",
    "    else:\n",
    "        html_str += f\"<span style='background-color: rgba({color[0]},{color[1]},{color[2]}, {alpha})'>{token}</span> \"\n",
    "html_str += \"</div>\"\n",
    "\n",
    "# 显示HTML字符串\n",
    "display(HTML(html_str))\n",
    "# 将HTML字符串保存到文件\n",
    "with open('/hhd2/fan/SCR/SCR-Experiment/output_SAILER.html', 'w', encoding='utf-8') as file:\n",
    "    file.write(html_str)"
   ]
  },
  {
   "cell_type": "code",
   "execution_count": 3,
   "metadata": {},
   "outputs": [
    {
     "name": "stdout",
     "output_type": "stream",
     "text": [
      "140\n",
      "['[CLS]', '2013', '年', '，', '被', '告', '人', '陈', '益', '桃', '受', '被', '告', '人', '邓', '某', '某', '指', '使', '，', '为', '解', '决', '邓', '与', '被', '害', '人', '杨', '某', '某', '之', '间', '的', '经', '济', '纠', '纷', '，', '纠', '集', '被', '告', '人', '瞿', '某', '某', '等', '人', '强', '行', '将', '被', '害', '人', '杨', '某', '某', '带', '至', '他', '处', '看', '管', '。', '期', '间', '，', '被', '告', '人', '陈', '益', '桃', '等', '人', '采', '用', '殴', '打', '及', '言', '语', '威', '胁', '等', '方', '式', '，', '逼', '迫', '杨', '某', '某', '签', '下', '悔', '过', '书', '并', '承', '诺', '放', '弃', '经', '济', '利', '益', '。', '被', '告', '人', '陈', '益', '桃', '等', '人', '又', '逼', '迫', '被', '害', '人', '杨', '某', '某', '出', '具', '欠', '条', '支', '付', '辛', '苦', '费', '5', '万', '元', '。', '[SEP]']\n"
     ]
    }
   ],
   "source": [
    "from transformers import BertTokenizer\n",
    "\n",
    "# 初始化分词器\n",
    "tokenizer = BertTokenizer.from_pretrained('/hhd2/fan/SCR/SCR-Preprocess/saved_BERT')\n",
    "\n",
    "# 定义文本\n",
    "text = \"2013年，被告人陈益桃受被告人邓某某指使，为解决邓与被害人杨某某之间的经济纠纷，纠集被告人瞿某某等人强行将被害人杨某某带至他处看管。期间，被告人陈益桃等人采用殴打及言语威胁等方式，逼迫杨某某签下悔过书并承诺放弃经济利益。被告人陈益桃等人又逼迫被害人杨某某出具欠条支付辛苦费5万元。\"\n",
    "# text = \"俞某某通过手机短信、QQ等形式共接收“六合彩”码单合计金额人民币480848.18元，后将接收的“六合彩”码单报给上线庄家，从中非法获利。\"\n",
    "# text = \"2010年5月17日17时许，李保庆（另案处理）以高某某调戏其外甥媳妇为由伙同被告人李爱群和张锋（另案处理）将高某某强行拉到安阳市小营村附近旅社内对其予以殴打，并拘禁至5月18日15时许，并且当场逼要高某某2000元现金，又让高某某书写了一张3000元的欠条。另查明，案发后被告人等已赔偿被害人经济损失2000元，并退赃款2000元。\"\n",
    "# text = \"原审被告人于守刚在任梅河口市农机局某某镇农机站站长期间，于2010年7月6日，在为本镇农民钟某某办理购买国家补贴农机时，向钟某某收取抵押金人民币2万元，并给钟某某出具加盖梅河口市某某镇农机工作站公章的收据1份，后将此款占为己有。案发后，原审被告人于守刚退还全部赃款。\"\n",
    "# 使用分词器将文本转换为词元\n",
    "tokens = tokenizer.tokenize(text)\n",
    "\n",
    "# 将分词结果按照指定的格式排列\n",
    "formatted_tokens = ['[CLS]'] + tokens + ['[SEP]']\n",
    "\n",
    "# 现在formatted_tokens包含了按照特定格式排列的词元\n",
    "print(len(formatted_tokens))\n",
    "print(formatted_tokens)"
   ]
  }
 ],
 "metadata": {
  "kernelspec": {
   "display_name": "LED",
   "language": "python",
   "name": "python3"
  },
  "language_info": {
   "codemirror_mode": {
    "name": "ipython",
    "version": 3
   },
   "file_extension": ".py",
   "mimetype": "text/x-python",
   "name": "python",
   "nbconvert_exporter": "python",
   "pygments_lexer": "ipython3",
   "version": "3.8.15"
  }
 },
 "nbformat": 4,
 "nbformat_minor": 2
}
